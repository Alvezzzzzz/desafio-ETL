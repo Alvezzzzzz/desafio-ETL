{
 "cells": [
  {
   "cell_type": "code",
   "execution_count": 19,
   "metadata": {},
   "outputs": [
    {
     "data": {
      "text/plain": [
       "0       Miguel\n",
       "1       Ismael\n",
       "2    Ana Julia\n",
       "Name: nome, dtype: object"
      ]
     },
     "metadata": {},
     "output_type": "display_data"
    }
   ],
   "source": [
    "import pandas as pd\n",
    "\n",
    "df = pd.read_csv(\"dados.csv\",sep=\";\")\n",
    "nomes = df[\"nome\"]\n",
    "display(nomes)\n",
    "\n",
    "def frase(dataframe):\n",
    "    msg = \"Hello \" + dataframe['nome'] + \", seja muito bem vindo!\"\n",
    "    for linha in dataframe['nome']:\n",
    "        dataframe[\"mensagem\"] = msg\n",
    "\n",
    "# ou usando o for direto\n",
    "\n",
    "'''mensagem = \", seja muito bem vindo ao teste!\"\n",
    "\n",
    "for linha in df['nome']:\n",
    "    df[\"mensagem\"] = df['nome'] + mensagem'''\n",
    "\n",
    "frase(df)\n",
    "\n",
    "df.to_csv(\"dados-depois-da-modificação.csv\", sep=\";\")\n"
   ]
  }
 ],
 "metadata": {
  "kernelspec": {
   "display_name": "Python 3",
   "language": "python",
   "name": "python3"
  },
  "language_info": {
   "codemirror_mode": {
    "name": "ipython",
    "version": 3
   },
   "file_extension": ".py",
   "mimetype": "text/x-python",
   "name": "python",
   "nbconvert_exporter": "python",
   "pygments_lexer": "ipython3",
   "version": "3.11.3"
  },
  "orig_nbformat": 4
 },
 "nbformat": 4,
 "nbformat_minor": 2
}
